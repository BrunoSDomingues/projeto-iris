{
  "nbformat": 4,
  "nbformat_minor": 0,
  "metadata": {
    "kernelspec": {
      "display_name": "Python 3 (ipykernel)",
      "language": "python",
      "name": "python3"
    },
    "language_info": {
      "codemirror_mode": {
        "name": "ipython",
        "version": 3
      },
      "file_extension": ".py",
      "mimetype": "text/x-python",
      "name": "python",
      "nbconvert_exporter": "python",
      "pygments_lexer": "ipython3",
      "version": "3.9.7"
    },
    "colab": {
      "name": "projeto_iris.ipynb",
      "provenance": [],
      "include_colab_link": true
    }
  },
  "cells": [
    {
      "cell_type": "markdown",
      "metadata": {
        "id": "view-in-github",
        "colab_type": "text"
      },
      "source": [
        "<a href=\"https://colab.research.google.com/github/BrunoSDomingues/projeto-iris/blob/main/projeto_iris.ipynb\" target=\"_parent\"><img src=\"https://colab.research.google.com/assets/colab-badge.svg\" alt=\"Open In Colab\"/></a>"
      ]
    },
    {
      "cell_type": "markdown",
      "metadata": {
        "id": "u_huAwa4W-df"
      },
      "source": [
        "# Projeto de detecção de íris"
      ]
    },
    {
      "cell_type": "markdown",
      "metadata": {
        "id": "O_rZJlnDc9vO"
      },
      "source": [
        "## Limpando o ambiente"
      ]
    },
    {
      "cell_type": "code",
      "metadata": {
        "id": "mv9MYxhNdBq4"
      },
      "source": [
        "!rm -rf G6_iris_recognition/\n",
        "!rm -rf enhanced_imgs/\n",
        "!rm -rf images/\n",
        "!rm -rf model.pickle"
      ],
      "execution_count": 1,
      "outputs": []
    },
    {
      "cell_type": "markdown",
      "metadata": {
        "id": "biJArmN4cAA0"
      },
      "source": [
        "## Baixando bibliotecas e imagens a serem utilizadas"
      ]
    },
    {
      "cell_type": "code",
      "metadata": {
        "id": "tRa2rzd1XPC6",
        "colab": {
          "base_uri": "https://localhost:8080/"
        },
        "outputId": "971366c8-683c-4dcf-ad1f-18e64a1bb81e"
      },
      "source": [
        "!pip3 install scikit-image --upgrade"
      ],
      "execution_count": 2,
      "outputs": [
        {
          "output_type": "stream",
          "name": "stdout",
          "text": [
            "Requirement already satisfied: scikit-image in /usr/local/lib/python3.7/dist-packages (0.18.3)\n",
            "Requirement already satisfied: scipy>=1.0.1 in /usr/local/lib/python3.7/dist-packages (from scikit-image) (1.4.1)\n",
            "Requirement already satisfied: PyWavelets>=1.1.1 in /usr/local/lib/python3.7/dist-packages (from scikit-image) (1.1.1)\n",
            "Requirement already satisfied: tifffile>=2019.7.26 in /usr/local/lib/python3.7/dist-packages (from scikit-image) (2021.8.30)\n",
            "Requirement already satisfied: matplotlib!=3.0.0,>=2.0.0 in /usr/local/lib/python3.7/dist-packages (from scikit-image) (3.2.2)\n",
            "Requirement already satisfied: imageio>=2.3.0 in /usr/local/lib/python3.7/dist-packages (from scikit-image) (2.4.1)\n",
            "Requirement already satisfied: networkx>=2.0 in /usr/local/lib/python3.7/dist-packages (from scikit-image) (2.6.3)\n",
            "Requirement already satisfied: pillow!=7.1.0,!=7.1.1,>=4.3.0 in /usr/local/lib/python3.7/dist-packages (from scikit-image) (7.1.2)\n",
            "Requirement already satisfied: numpy>=1.16.5 in /usr/local/lib/python3.7/dist-packages (from scikit-image) (1.19.5)\n",
            "Requirement already satisfied: pyparsing!=2.0.4,!=2.1.2,!=2.1.6,>=2.0.1 in /usr/local/lib/python3.7/dist-packages (from matplotlib!=3.0.0,>=2.0.0->scikit-image) (2.4.7)\n",
            "Requirement already satisfied: cycler>=0.10 in /usr/local/lib/python3.7/dist-packages (from matplotlib!=3.0.0,>=2.0.0->scikit-image) (0.10.0)\n",
            "Requirement already satisfied: kiwisolver>=1.0.1 in /usr/local/lib/python3.7/dist-packages (from matplotlib!=3.0.0,>=2.0.0->scikit-image) (1.3.2)\n",
            "Requirement already satisfied: python-dateutil>=2.1 in /usr/local/lib/python3.7/dist-packages (from matplotlib!=3.0.0,>=2.0.0->scikit-image) (2.8.2)\n",
            "Requirement already satisfied: six in /usr/local/lib/python3.7/dist-packages (from cycler>=0.10->matplotlib!=3.0.0,>=2.0.0->scikit-image) (1.15.0)\n"
          ]
        }
      ]
    },
    {
      "cell_type": "code",
      "metadata": {
        "id": "-UiLKniiXQVq",
        "colab": {
          "base_uri": "https://localhost:8080/"
        },
        "outputId": "b17bb6df-90cc-4459-f310-b560292e91fe"
      },
      "source": [
        "!git clone https://github.com/lucianosilva-github/G6_iris_recognition.git"
      ],
      "execution_count": 3,
      "outputs": [
        {
          "output_type": "stream",
          "name": "stdout",
          "text": [
            "Cloning into 'G6_iris_recognition'...\n",
            "remote: Enumerating objects: 31, done.\u001b[K\n",
            "remote: Counting objects: 100% (31/31), done.\u001b[K\n",
            "remote: Compressing objects: 100% (31/31), done.\u001b[K\n",
            "remote: Total 31 (delta 3), reused 1 (delta 0), pack-reused 0\u001b[K\n",
            "Unpacking objects: 100% (31/31), done.\n"
          ]
        }
      ]
    },
    {
      "cell_type": "code",
      "metadata": {
        "id": "v7hFZ8j-XTyA",
        "colab": {
          "base_uri": "https://localhost:8080/"
        },
        "outputId": "7e851c6b-316b-4d97-a66e-fe34687f2838"
      },
      "source": [
        "!git clone https://github.com/lucianosilva-github/images.git\n",
        "!rm -rf images/.git/"
      ],
      "execution_count": 4,
      "outputs": [
        {
          "output_type": "stream",
          "name": "stdout",
          "text": [
            "Cloning into 'images'...\n",
            "remote: Enumerating objects: 1266, done.\u001b[K\n",
            "remote: Counting objects: 100% (20/20), done.\u001b[K\n",
            "remote: Compressing objects: 100% (20/20), done.\u001b[K\n",
            "remote: Total 1266 (delta 1), reused 0 (delta 0), pack-reused 1246\u001b[K\n",
            "Receiving objects: 100% (1266/1266), 189.65 MiB | 23.62 MiB/s, done.\n",
            "Resolving deltas: 100% (12/12), done.\n",
            "Checking out files: 100% (1163/1163), done.\n"
          ]
        }
      ]
    },
    {
      "cell_type": "code",
      "metadata": {
        "id": "PNFXEkl6W-di"
      },
      "source": [
        "# Imports\n",
        "import cv2\n",
        "import os\n",
        "import G6_iris_recognition as g6\n",
        "import matplotlib.pyplot as plt\n",
        "import numpy as np"
      ],
      "execution_count": 5,
      "outputs": []
    },
    {
      "cell_type": "markdown",
      "metadata": {
        "id": "U4ORsAXbW-dk"
      },
      "source": [
        "## Tratando as imagens"
      ]
    },
    {
      "cell_type": "markdown",
      "metadata": {
        "id": "j_h6Qt9_W-dk"
      },
      "source": [
        "### Melhorando a nitidez"
      ]
    },
    {
      "cell_type": "code",
      "metadata": {
        "id": "pus3_KshW-dl"
      },
      "source": [
        "# Funcao que retorna uma imagem mais nitida usando uma mascara de nitidez\n",
        "# Obtida em https://stackoverflow.com/a/55590133/9771897\n",
        "def sharpen_image(img, kernel_size=(5, 5), sigma=1.0, amount=1.0, threshold=0):\n",
        "    \"\"\"\n",
        "    img = imagem de entrada\n",
        "    kernel_size = tamanho do kernel\n",
        "    sigma = valor de sigma a ser usado no GaussianBlur\n",
        "    amount = intensidade da nitidez: quanto maior, mais nitida a imagem\n",
        "    threshold = limite a ser aplicado na mascara de baixo contraste\n",
        "    \"\"\"\n",
        "    blurred = cv2.GaussianBlur(img, kernel_size, sigma)\n",
        "    sharpened = float(amount + 1) * img - float(amount) * blurred\n",
        "    sharpened = np.maximum(sharpened, np.zeros(sharpened.shape))\n",
        "    sharpened = np.minimum(sharpened, 255 * np.ones(sharpened.shape))\n",
        "    sharpened = sharpened.round().astype(np.uint8)\n",
        "    \n",
        "    if threshold > 0:\n",
        "        low_contrast_mask = np.absolute(img - blurred) < threshold\n",
        "        np.copyto(sharpened, img, where=low_contrast_mask)\n",
        "        \n",
        "    return sharpened"
      ],
      "execution_count": null,
      "outputs": []
    },
    {
      "cell_type": "markdown",
      "metadata": {
        "id": "oRP4skQ1W-dl"
      },
      "source": [
        "### Melhorando o brilho e o contraste\n",
        "\n",
        "De acordo com a [documentação oficial](https://docs.opencv.org/master/d3/dc1/tutorial_basic_linear_transform.html) do OpenCV, a melhor forma de fazer ajustes no brilho e no contraste é utilizando a fórmula abaixo\n",
        "\n",
        "$g(x) = \\alpha \\cdot f(x) + \\beta$\n",
        "\n",
        "onde: \n",
        "- $\\alpha$ é o parâmetro de _gain_ (utilizado para controlar o contraste);\n",
        "- $\\beta$ é o parâmetro de _bias_ (utilizado para controlar o brilho);\n",
        "\n",
        "Como estamos tratando de uma imagem, a conta de ajuste deve ser feita para cada pixel. Assim, podemos adaptar a fórmula:\n",
        "\n",
        "$img_{out} (i, j) = \\alpha \\cdot img_{in} (i, j) + \\beta$\n",
        "\n",
        "Para ajustes no contraste, basta alterar o valor de $\\alpha$:\n",
        "- para $\\alpha = 1$, a imagem não tem alteração de contraste;\n",
        "- para $0 < \\alpha < 1$, o contraste da imagem é reduzido;\n",
        "- para $\\alpha > 1$, o contraste da imagem é intensificado;\n",
        "\n",
        "Para ajustes no brilho, basta alterar o valor de $\\beta$:\n",
        "- para $\\beta = 0$, a imagem não tem alteração de brilho;\n",
        "- para $\\beta < 0$, o brilho da imagem é reduzido;\n",
        "- para $\\beta > 0$, o brilho da imagem é intensificado;\n",
        "\n",
        "De modo a fazer esta conta, devemos iterar por cada pixel e armazenar o valor calculado em uma nova matriz de imagem. Para tal, podemos usar a função [`convertScaleAbs`](hhttps://docs.opencv.org/4.5.3/d2/de8/group__core__array.html#ga3460e9c9f37b563ab9dd550c4d8c4e7d) do `cv2`, que faz a conta automaticamente."
      ]
    },
    {
      "cell_type": "code",
      "metadata": {
        "id": "i_KIbSYaW-dm"
      },
      "source": [
        "# Funcao que ajusta simultaneamente o brilho e o contraste\n",
        "def adjust_brightness_and_contrast(img, alpha=1, beta=0, gamma=1):\n",
        "    \"\"\"\n",
        "    img = imagem de entrada\n",
        "    alpha = valor de contraste\n",
        "    beta = valor do brilho\n",
        "    \"\"\"\n",
        "    \n",
        "    alpha = float(alpha)\n",
        "    beta = int(beta)\n",
        "    gamma = float(gamma)\n",
        "    \n",
        "    # Se o ajuste de contraste for 1 e o ajuste de brilho for 0, a imagem sera inalterada\n",
        "    if alpha == 1 and beta == 0:\n",
        "        return img\n",
        "    \n",
        "    else:\n",
        "        if alpha < 0:\n",
        "            raise ValueError(\"Alpha value can't be lower than 0\")\n",
        "        \n",
        "        else:\n",
        "            new_img = np.zeros(img.shape, img.dtype)\n",
        "            new_img = cv2.convertScaleAbs(img, alpha=alpha, beta=beta)\n",
        "                        \n",
        "    # Gamma correction\n",
        "    if gamma == 1:\n",
        "        return new_img\n",
        "    \n",
        "    else:\n",
        "        lookUpTable = np.empty((1,256), np.uint8)\n",
        "        \n",
        "        for i in range(256):\n",
        "            lookUpTable[0,i] = np.clip(pow(i / 255.0, gamma) * 255.0, 0, 255)\n",
        "            \n",
        "        lookup = cv2.LUT(new_img, lookUpTable)\n",
        "        corrected = cv2.hconcat([new_img, lookup])\n",
        "        \n",
        "        return corrected"
      ],
      "execution_count": null,
      "outputs": []
    },
    {
      "cell_type": "markdown",
      "metadata": {
        "id": "_DlXqbxzW-dn"
      },
      "source": [
        "### Tratando e armazenando as novas imagens\n",
        "\n",
        "Foi feito um teste utilizando a técnica de equalização do histograma de cores da imagem; no entanto, este gerou imagens com muito brilho nas pupilas e pouco destaque para as íris. Assim, realizou-se apenas ajustes na nitidez, no contraste e no brilho das imagens.\n",
        "\n",
        "Com equalização            |  Sem equalização\n",
        ":-------------------------:|:-------------------------:\n",
        "![](https://github.com/BrunoSDomingues/projeto-iris/blob/main/with_eq.bmp?raw=1)           |![](https://github.com/BrunoSDomingues/projeto-iris/blob/main/without_eq.bmp?raw=1)"
      ]
    },
    {
      "cell_type": "code",
      "metadata": {
        "id": "BFGwYLZeW-dn"
      },
      "source": [
        "# Gerando pasta para salvar as imagens tratadas\n",
        "if not os.path.isdir(\"enhanced_imgs\"):\n",
        "    os.mkdir(\"enhanced_imgs\")"
      ],
      "execution_count": null,
      "outputs": []
    },
    {
      "cell_type": "code",
      "metadata": {
        "id": "MzB3RCLWW-do"
      },
      "source": [
        "# Gerando lista com os numeros das pastas\n",
        "img_list = [f\"{str(i).zfill(4)}\" for i in range(60) if i != 12] # Nao existe pasta 0012\n",
        "\n",
        "# A maior parte das pastas contém 20 imagens cada\n",
        "n_imgs = 20"
      ],
      "execution_count": null,
      "outputs": []
    },
    {
      "cell_type": "code",
      "metadata": {
        "id": "r4c0Vg57W-do"
      },
      "source": [
        "# Percorrendo cada pasta\n",
        "for path in img_list:\n",
        "    enhanced_path = os.path.join(\"enhanced_imgs\", path)\n",
        "    \n",
        "    # Checa se a pasta nao existe, e cria ela se nao existir\n",
        "    if not os.path.isdir(enhanced_path):\n",
        "        os.mkdir(os.path.join(\"enhanced_imgs\", path))\n",
        "        \n",
        "    # Percorrendo cada imagem dentro da pasta\n",
        "    for i in range(n_imgs):\n",
        "        # Obtem o path completo da imagem\n",
        "        filename = f\"{path}_{str(i).zfill(3)}.bmp\"\n",
        "        img_path = os.path.join(\"images\", path, filename)        \n",
        "        \n",
        "        # Existem casos em que uma pasta nao possui 20 imagens\n",
        "        # Verifica-se portanto se a imagem existe antes de processar\n",
        "        if not os.path.isfile(img_path):\n",
        "            pass\n",
        "        \n",
        "        else:\n",
        "            img = cv2.imread(img_path)\n",
        "            \n",
        "            # Tratando\n",
        "            sharpened = sharpen_image(img, amount=2.0)\n",
        "            processed = adjust_brightness_and_contrast(sharpened, alpha = 2.2, beta = 30, gamma = 0.45)\n",
        "\n",
        "            # Salvando a imagem\n",
        "            path_processed = os.path.join(\"enhanced_imgs\", path, filename)\n",
        "            cv2.imwrite(path_processed, processed)"
      ],
      "execution_count": null,
      "outputs": []
    },
    {
      "cell_type": "markdown",
      "metadata": {
        "id": "p5H9YiPKW-dp"
      },
      "source": [
        "## Treinando o modelo"
      ]
    },
    {
      "cell_type": "code",
      "metadata": {
        "scrolled": true,
        "id": "sMrc_aFQW-dp",
        "colab": {
          "base_uri": "https://localhost:8080/",
          "height": 1000
        },
        "outputId": "ac7c3b2c-a078-4a9f-d87b-f9f4d7510b5e"
      },
      "source": [
        "open(\"model.pickle\", \"a\").close()\n",
        "g6.iris_model_train(\"images\", \"model.pickle\")"
      ],
      "execution_count": null,
      "outputs": [
        {
          "output_type": "stream",
          "name": "stdout",
          "text": [
            "directory_list ['images/.git/logs/refs/remotes/origin', 'images/.git/logs/refs/remotes', 'images/.git/logs/refs/heads', 'images/.git/logs/refs', 'images/.git/refs/remotes/origin', 'images/.git/refs/remotes', 'images/.git/refs/heads', 'images/.git/refs/tags', 'images/.git/objects/info', 'images/.git/objects/pack', 'images/.git/info', 'images/.git/logs', 'images/.git/hooks', 'images/.git/refs', 'images/.git/objects', 'images/.git/branches', 'images/0014', 'images/0047', 'images/0034', 'images/0030', 'images/0016', 'images/0052', 'images/0054', 'images/0053', 'images/0035', 'images/0059', 'images/0022', 'images/0056', 'images/0008', 'images/0023', 'images/0011', 'images/0021', 'images/0042', 'images/0006', 'images/0009', 'images/0046', 'images/0038', 'images/0010', 'images/0025', 'images/0041', 'images/0051', 'images/0029', 'images/0013', 'images/0000', 'images/0027', 'images/0037', 'images/0018', 'images/0031', 'images/0003', 'images/0005', 'images/0040', 'images/0048', 'images/0032', 'images/0026', 'images/0017', 'images/0001', 'images/0007', 'images/0036', 'images/0015', 'images/0033', 'images/0020', 'images/0049', 'images/.git', 'images/0019', 'images/0057', 'images/0043', 'images/0004', 'images/0045', 'images/0039', 'images/0024', 'images/0028', 'images/0044', 'images/0002', 'images/0050', 'images/0055', 'images/0058']\n",
            "name origin\n",
            "path_to_image images/.git/logs/refs/remotes/origin/HEAD\n",
            "rectangle expression2 OpenCV(4.1.2) /io/opencv/modules/imgproc/src/color.cpp:182: error: (-215:Assertion failed) !_src.empty() in function 'cvtColor'\n",
            "\n",
            "invalid_image origin\n",
            "name remotes\n",
            "path_to_image images/.git/logs/refs/remotes/origin/HEAD\n",
            "rectangle expression2 OpenCV(4.1.2) /io/opencv/modules/imgproc/src/color.cpp:182: error: (-215:Assertion failed) !_src.empty() in function 'cvtColor'\n",
            "\n",
            "invalid_image remotes\n",
            "name heads\n",
            "path_to_image images/.git/logs/refs/heads/main\n",
            "rectangle expression2 OpenCV(4.1.2) /io/opencv/modules/imgproc/src/color.cpp:182: error: (-215:Assertion failed) !_src.empty() in function 'cvtColor'\n",
            "\n",
            "invalid_image heads\n",
            "name refs\n",
            "path_to_image images/.git/logs/refs/remotes/origin/HEAD\n",
            "rectangle expression2 OpenCV(4.1.2) /io/opencv/modules/imgproc/src/color.cpp:182: error: (-215:Assertion failed) !_src.empty() in function 'cvtColor'\n",
            "\n",
            "path_to_image images/.git/logs/refs/heads/main\n",
            "rectangle expression2 OpenCV(4.1.2) /io/opencv/modules/imgproc/src/color.cpp:182: error: (-215:Assertion failed) !_src.empty() in function 'cvtColor'\n",
            "\n",
            "invalid_image refs\n",
            "name origin\n",
            "path_to_image images/.git/refs/remotes/origin/HEAD\n",
            "rectangle expression2 OpenCV(4.1.2) /io/opencv/modules/imgproc/src/color.cpp:182: error: (-215:Assertion failed) !_src.empty() in function 'cvtColor'\n",
            "\n",
            "invalid_image origin\n",
            "name remotes\n",
            "path_to_image images/.git/refs/remotes/origin/HEAD\n",
            "rectangle expression2 OpenCV(4.1.2) /io/opencv/modules/imgproc/src/color.cpp:182: error: (-215:Assertion failed) !_src.empty() in function 'cvtColor'\n",
            "\n",
            "invalid_image remotes\n",
            "name heads\n",
            "path_to_image images/.git/refs/heads/main\n",
            "rectangle expression2 OpenCV(4.1.2) /io/opencv/modules/imgproc/src/color.cpp:182: error: (-215:Assertion failed) !_src.empty() in function 'cvtColor'\n",
            "\n",
            "invalid_image heads\n",
            "name tags\n",
            "name info\n",
            "name pack\n",
            "path_to_image images/.git/objects/pack/pack-21149d77de5911d59734fec800fb78e846de44e6.idx\n",
            "rectangle expression2 OpenCV(4.1.2) /io/opencv/modules/imgproc/src/color.cpp:182: error: (-215:Assertion failed) !_src.empty() in function 'cvtColor'\n",
            "\n",
            "path_to_image images/.git/objects/pack/pack-21149d77de5911d59734fec800fb78e846de44e6.pack\n",
            "rectangle expression2 OpenCV(4.1.2) /io/opencv/modules/imgproc/src/color.cpp:182: error: (-215:Assertion failed) !_src.empty() in function 'cvtColor'\n",
            "\n",
            "invalid_image pack\n",
            "name info\n",
            "path_to_image images/.git/info/exclude\n",
            "rectangle expression2 OpenCV(4.1.2) /io/opencv/modules/imgproc/src/color.cpp:182: error: (-215:Assertion failed) !_src.empty() in function 'cvtColor'\n",
            "\n",
            "invalid_image info\n",
            "name logs\n",
            "path_to_image images/.git/logs/HEAD\n",
            "rectangle expression2 OpenCV(4.1.2) /io/opencv/modules/imgproc/src/color.cpp:182: error: (-215:Assertion failed) !_src.empty() in function 'cvtColor'\n",
            "\n",
            "path_to_image images/.git/logs/refs/remotes/origin/HEAD\n",
            "rectangle expression2 OpenCV(4.1.2) /io/opencv/modules/imgproc/src/color.cpp:182: error: (-215:Assertion failed) !_src.empty() in function 'cvtColor'\n",
            "\n",
            "path_to_image images/.git/logs/refs/heads/main\n",
            "rectangle expression2 OpenCV(4.1.2) /io/opencv/modules/imgproc/src/color.cpp:182: error: (-215:Assertion failed) !_src.empty() in function 'cvtColor'\n",
            "\n",
            "invalid_image logs\n",
            "name hooks\n",
            "path_to_image images/.git/hooks/pre-applypatch.sample\n",
            "rectangle expression2 OpenCV(4.1.2) /io/opencv/modules/imgproc/src/color.cpp:182: error: (-215:Assertion failed) !_src.empty() in function 'cvtColor'\n",
            "\n",
            "path_to_image images/.git/hooks/prepare-commit-msg.sample\n",
            "rectangle expression2 OpenCV(4.1.2) /io/opencv/modules/imgproc/src/color.cpp:182: error: (-215:Assertion failed) !_src.empty() in function 'cvtColor'\n",
            "\n",
            "path_to_image images/.git/hooks/commit-msg.sample\n",
            "rectangle expression2 OpenCV(4.1.2) /io/opencv/modules/imgproc/src/color.cpp:182: error: (-215:Assertion failed) !_src.empty() in function 'cvtColor'\n",
            "\n",
            "path_to_image images/.git/hooks/applypatch-msg.sample\n",
            "rectangle expression2 OpenCV(4.1.2) /io/opencv/modules/imgproc/src/color.cpp:182: error: (-215:Assertion failed) !_src.empty() in function 'cvtColor'\n",
            "\n",
            "path_to_image images/.git/hooks/fsmonitor-watchman.sample\n",
            "rectangle expression2 OpenCV(4.1.2) /io/opencv/modules/imgproc/src/color.cpp:182: error: (-215:Assertion failed) !_src.empty() in function 'cvtColor'\n",
            "\n",
            "path_to_image images/.git/hooks/post-update.sample\n",
            "rectangle expression2 OpenCV(4.1.2) /io/opencv/modules/imgproc/src/color.cpp:182: error: (-215:Assertion failed) !_src.empty() in function 'cvtColor'\n",
            "\n",
            "path_to_image images/.git/hooks/pre-rebase.sample\n",
            "rectangle expression2 OpenCV(4.1.2) /io/opencv/modules/imgproc/src/color.cpp:182: error: (-215:Assertion failed) !_src.empty() in function 'cvtColor'\n",
            "\n",
            "path_to_image images/.git/hooks/update.sample\n",
            "rectangle expression2 OpenCV(4.1.2) /io/opencv/modules/imgproc/src/color.cpp:182: error: (-215:Assertion failed) !_src.empty() in function 'cvtColor'\n",
            "\n",
            "path_to_image images/.git/hooks/pre-receive.sample\n",
            "rectangle expression2 OpenCV(4.1.2) /io/opencv/modules/imgproc/src/color.cpp:182: error: (-215:Assertion failed) !_src.empty() in function 'cvtColor'\n",
            "\n",
            "path_to_image images/.git/hooks/pre-push.sample\n",
            "rectangle expression2 OpenCV(4.1.2) /io/opencv/modules/imgproc/src/color.cpp:182: error: (-215:Assertion failed) !_src.empty() in function 'cvtColor'\n",
            "\n",
            "path_to_image images/.git/hooks/pre-commit.sample\n",
            "rectangle expression2 OpenCV(4.1.2) /io/opencv/modules/imgproc/src/color.cpp:182: error: (-215:Assertion failed) !_src.empty() in function 'cvtColor'\n",
            "\n",
            "invalid_image hooks\n",
            "name refs\n",
            "path_to_image images/.git/refs/remotes/origin/HEAD\n",
            "rectangle expression2 OpenCV(4.1.2) /io/opencv/modules/imgproc/src/color.cpp:182: error: (-215:Assertion failed) !_src.empty() in function 'cvtColor'\n",
            "\n",
            "path_to_image images/.git/refs/heads/main\n",
            "rectangle expression2 OpenCV(4.1.2) /io/opencv/modules/imgproc/src/color.cpp:182: error: (-215:Assertion failed) !_src.empty() in function 'cvtColor'\n",
            "\n",
            "invalid_image refs\n",
            "name objects\n",
            "path_to_image images/.git/objects/pack/pack-21149d77de5911d59734fec800fb78e846de44e6.idx\n",
            "rectangle expression2 OpenCV(4.1.2) /io/opencv/modules/imgproc/src/color.cpp:182: error: (-215:Assertion failed) !_src.empty() in function 'cvtColor'\n",
            "\n",
            "path_to_image images/.git/objects/pack/pack-21149d77de5911d59734fec800fb78e846de44e6.pack\n",
            "rectangle expression2 OpenCV(4.1.2) /io/opencv/modules/imgproc/src/color.cpp:182: error: (-215:Assertion failed) !_src.empty() in function 'cvtColor'\n",
            "\n",
            "invalid_image objects\n",
            "name branches\n",
            "name 0014\n",
            "path_to_image images/0014/0014_008.bmp\n",
            "path_to_image images/0014/0014_019.bmp\n",
            "path_to_image images/0014/0014_017.bmp\n",
            "path_to_image images/0014/0014_009.bmp\n",
            "path_to_image images/0014/0014_010.bmp\n",
            "path_to_image images/0014/0014_013.bmp\n"
          ]
        },
        {
          "output_type": "error",
          "ename": "KeyboardInterrupt",
          "evalue": "ignored",
          "traceback": [
            "\u001b[0;31m---------------------------------------------------------------------------\u001b[0m",
            "\u001b[0;31mKeyboardInterrupt\u001b[0m                         Traceback (most recent call last)",
            "\u001b[0;32m<ipython-input-13-95bbd033d8e6>\u001b[0m in \u001b[0;36m<module>\u001b[0;34m()\u001b[0m\n\u001b[1;32m      1\u001b[0m \u001b[0mopen\u001b[0m\u001b[0;34m(\u001b[0m\u001b[0;34m\"model.pickle\"\u001b[0m\u001b[0;34m,\u001b[0m \u001b[0;34m\"a\"\u001b[0m\u001b[0;34m)\u001b[0m\u001b[0;34m.\u001b[0m\u001b[0mclose\u001b[0m\u001b[0;34m(\u001b[0m\u001b[0;34m)\u001b[0m\u001b[0;34m\u001b[0m\u001b[0;34m\u001b[0m\u001b[0m\n\u001b[0;32m----> 2\u001b[0;31m \u001b[0mg6\u001b[0m\u001b[0;34m.\u001b[0m\u001b[0miris_model_train\u001b[0m\u001b[0;34m(\u001b[0m\u001b[0;34m\"images\"\u001b[0m\u001b[0;34m,\u001b[0m \u001b[0;34m\"model.pickle\"\u001b[0m\u001b[0;34m)\u001b[0m\u001b[0;34m\u001b[0m\u001b[0;34m\u001b[0m\u001b[0m\n\u001b[0m",
            "\u001b[0;32m/content/G6_iris_recognition/main.py\u001b[0m in \u001b[0;36miris_model_train\u001b[0;34m(train_db_path, train_encoding_model_path)\u001b[0m\n\u001b[1;32m     13\u001b[0m     \u001b[0;32mif\u001b[0m \u001b[0mos\u001b[0m\u001b[0;34m.\u001b[0m\u001b[0mpath\u001b[0m\u001b[0;34m.\u001b[0m\u001b[0mexists\u001b[0m\u001b[0;34m(\u001b[0m\u001b[0mtrain_db_path\u001b[0m\u001b[0;34m)\u001b[0m\u001b[0;34m:\u001b[0m\u001b[0;34m\u001b[0m\u001b[0;34m\u001b[0m\u001b[0m\n\u001b[1;32m     14\u001b[0m         \u001b[0;32mif\u001b[0m \u001b[0mos\u001b[0m\u001b[0;34m.\u001b[0m\u001b[0mpath\u001b[0m\u001b[0;34m.\u001b[0m\u001b[0mexists\u001b[0m\u001b[0;34m(\u001b[0m\u001b[0mtrain_encoding_model_path\u001b[0m\u001b[0;34m)\u001b[0m\u001b[0;34m:\u001b[0m\u001b[0;34m\u001b[0m\u001b[0;34m\u001b[0m\u001b[0m\n\u001b[0;32m---> 15\u001b[0;31m             \u001b[0miris_names\u001b[0m \u001b[0;34m=\u001b[0m \u001b[0miris_test_model\u001b[0m\u001b[0;34m(\u001b[0m\u001b[0mtrain_db_path\u001b[0m\u001b[0;34m,\u001b[0m \u001b[0mtrain_encoding_model_path\u001b[0m\u001b[0;34m)\u001b[0m\u001b[0;34m\u001b[0m\u001b[0;34m\u001b[0m\u001b[0m\n\u001b[0m\u001b[1;32m     16\u001b[0m             \u001b[0;32mreturn\u001b[0m \u001b[0miris_names\u001b[0m\u001b[0;34m\u001b[0m\u001b[0;34m\u001b[0m\u001b[0m\n\u001b[1;32m     17\u001b[0m         \u001b[0;32melse\u001b[0m\u001b[0;34m:\u001b[0m\u001b[0;34m\u001b[0m\u001b[0;34m\u001b[0m\u001b[0m\n",
            "\u001b[0;32m/content/G6_iris_recognition/encode_iris_model.py\u001b[0m in \u001b[0;36miris_test_model\u001b[0;34m(train_db_path, train_db_model_path)\u001b[0m\n\u001b[1;32m     34\u001b[0m             \u001b[0mprint\u001b[0m \u001b[0;34m(\u001b[0m\u001b[0;34m\"path_to_image\"\u001b[0m\u001b[0;34m,\u001b[0m\u001b[0mpath_to_image\u001b[0m\u001b[0;34m)\u001b[0m\u001b[0;34m\u001b[0m\u001b[0;34m\u001b[0m\u001b[0m\n\u001b[1;32m     35\u001b[0m             \u001b[0;31m# image = scipy.misc.imread(path_to_image)\u001b[0m\u001b[0;34m\u001b[0m\u001b[0;34m\u001b[0m\u001b[0;34m\u001b[0m\u001b[0m\n\u001b[0;32m---> 36\u001b[0;31m             \u001b[0miris_encodings_in_image\u001b[0m \u001b[0;34m=\u001b[0m \u001b[0mengroup\u001b[0m\u001b[0;34m(\u001b[0m\u001b[0mpath_to_image\u001b[0m\u001b[0;34m)\u001b[0m\u001b[0;34m\u001b[0m\u001b[0;34m\u001b[0m\u001b[0m\n\u001b[0m\u001b[1;32m     37\u001b[0m             \u001b[0;32mif\u001b[0m \u001b[0miris_encodings_in_image\u001b[0m\u001b[0;34m==\u001b[0m\u001b[0;34m\"invalid image\"\u001b[0m\u001b[0;34m:\u001b[0m\u001b[0;34m\u001b[0m\u001b[0;34m\u001b[0m\u001b[0m\n\u001b[1;32m     38\u001b[0m                 \u001b[0minvalid_image\u001b[0m\u001b[0;34m=\u001b[0m\u001b[0;32mTrue\u001b[0m\u001b[0;34m\u001b[0m\u001b[0;34m\u001b[0m\u001b[0m\n",
            "\u001b[0;32m/content/G6_iris_recognition/feature_vec.py\u001b[0m in \u001b[0;36mengroup\u001b[0;34m(fname)\u001b[0m\n\u001b[1;32m      6\u001b[0m \u001b[0;32mdef\u001b[0m \u001b[0mengroup\u001b[0m\u001b[0;34m(\u001b[0m\u001b[0mfname\u001b[0m\u001b[0;34m)\u001b[0m\u001b[0;34m:\u001b[0m\u001b[0;34m\u001b[0m\u001b[0;34m\u001b[0m\u001b[0m\n\u001b[1;32m      7\u001b[0m     \u001b[0;32mtry\u001b[0m\u001b[0;34m:\u001b[0m\u001b[0;34m\u001b[0m\u001b[0;34m\u001b[0m\u001b[0m\n\u001b[0;32m----> 8\u001b[0;31m         \u001b[0mstrip\u001b[0m \u001b[0;34m=\u001b[0m \u001b[0mrectangle\u001b[0m\u001b[0;34m(\u001b[0m\u001b[0mfname\u001b[0m\u001b[0;34m)\u001b[0m\u001b[0;34m\u001b[0m\u001b[0;34m\u001b[0m\u001b[0m\n\u001b[0m\u001b[1;32m      9\u001b[0m \u001b[0;34m\u001b[0m\u001b[0m\n\u001b[1;32m     10\u001b[0m         \u001b[0;31m# if strip == \"invalid image\":\u001b[0m\u001b[0;34m\u001b[0m\u001b[0;34m\u001b[0m\u001b[0;34m\u001b[0m\u001b[0m\n",
            "\u001b[0;32m/content/G6_iris_recognition/rectangulate.py\u001b[0m in \u001b[0;36mrectangle\u001b[0;34m(fname)\u001b[0m\n\u001b[1;32m      7\u001b[0m       \u001b[0mrgb\u001b[0m \u001b[0;34m=\u001b[0m \u001b[0mcv2\u001b[0m\u001b[0;34m.\u001b[0m\u001b[0mimread\u001b[0m\u001b[0;34m(\u001b[0m\u001b[0mfname\u001b[0m\u001b[0;34m)\u001b[0m\u001b[0;34m\u001b[0m\u001b[0;34m\u001b[0m\u001b[0m\n\u001b[1;32m      8\u001b[0m       \u001b[0mimg_out\u001b[0m \u001b[0;34m=\u001b[0m \u001b[0mcv2\u001b[0m\u001b[0;34m.\u001b[0m\u001b[0mcvtColor\u001b[0m\u001b[0;34m(\u001b[0m\u001b[0mrgb\u001b[0m\u001b[0;34m,\u001b[0m \u001b[0mcv2\u001b[0m\u001b[0;34m.\u001b[0m\u001b[0mCOLOR_BGR2GRAY\u001b[0m\u001b[0;34m)\u001b[0m\u001b[0;34m\u001b[0m\u001b[0;34m\u001b[0m\u001b[0m\n\u001b[0;32m----> 9\u001b[0;31m       \u001b[0mparams\u001b[0m \u001b[0;34m=\u001b[0m \u001b[0mlocate\u001b[0m\u001b[0;34m(\u001b[0m\u001b[0mimg_out\u001b[0m\u001b[0;34m)\u001b[0m\u001b[0;34m\u001b[0m\u001b[0;34m\u001b[0m\u001b[0m\n\u001b[0m\u001b[1;32m     10\u001b[0m \u001b[0;34m\u001b[0m\u001b[0m\n\u001b[1;32m     11\u001b[0m       \u001b[0mRi\u001b[0m \u001b[0;34m=\u001b[0m \u001b[0mparams\u001b[0m\u001b[0;34m[\u001b[0m\u001b[0;36m0\u001b[0m\u001b[0;34m]\u001b[0m \u001b[0;31m# Inner (pupil) radius\u001b[0m\u001b[0;34m\u001b[0m\u001b[0;34m\u001b[0m\u001b[0m\n",
            "\u001b[0;32m/content/G6_iris_recognition/locate2.py\u001b[0m in \u001b[0;36mlocate\u001b[0;34m(img)\u001b[0m\n\u001b[1;32m     88\u001b[0m     \u001b[0;32mfor\u001b[0m \u001b[0mi\u001b[0m \u001b[0;32min\u001b[0m \u001b[0mrange\u001b[0m\u001b[0;34m(\u001b[0m\u001b[0mlen\u001b[0m\u001b[0;34m(\u001b[0m\u001b[0mrr\u001b[0m\u001b[0;34m)\u001b[0m\u001b[0;34m)\u001b[0m\u001b[0;34m:\u001b[0m\u001b[0;34m\u001b[0m\u001b[0;34m\u001b[0m\u001b[0m\n\u001b[1;32m     89\u001b[0m         \u001b[0;32mif\u001b[0m \u001b[0mrr\u001b[0m\u001b[0;34m[\u001b[0m\u001b[0mi\u001b[0m\u001b[0;34m]\u001b[0m \u001b[0;34m<\u001b[0m \u001b[0;36m0\u001b[0m\u001b[0;34m:\u001b[0m \u001b[0mrr\u001b[0m\u001b[0;34m[\u001b[0m\u001b[0mi\u001b[0m\u001b[0;34m]\u001b[0m \u001b[0;34m=\u001b[0m \u001b[0;36m0\u001b[0m\u001b[0;34m\u001b[0m\u001b[0;34m\u001b[0m\u001b[0m\n\u001b[0;32m---> 90\u001b[0;31m         \u001b[0;32mif\u001b[0m \u001b[0mrr\u001b[0m\u001b[0;34m[\u001b[0m\u001b[0mi\u001b[0m\u001b[0;34m]\u001b[0m \u001b[0;34m>=\u001b[0m \u001b[0mrows\u001b[0m\u001b[0;34m:\u001b[0m \u001b[0mrr\u001b[0m\u001b[0;34m[\u001b[0m\u001b[0mi\u001b[0m\u001b[0;34m]\u001b[0m \u001b[0;34m=\u001b[0m \u001b[0mrows\u001b[0m \u001b[0;34m-\u001b[0m \u001b[0;36m1\u001b[0m\u001b[0;34m\u001b[0m\u001b[0;34m\u001b[0m\u001b[0m\n\u001b[0m\u001b[1;32m     91\u001b[0m     \u001b[0;32mfor\u001b[0m \u001b[0mi\u001b[0m \u001b[0;32min\u001b[0m \u001b[0mrange\u001b[0m\u001b[0;34m(\u001b[0m\u001b[0mlen\u001b[0m\u001b[0;34m(\u001b[0m\u001b[0mcc\u001b[0m\u001b[0;34m)\u001b[0m\u001b[0;34m)\u001b[0m\u001b[0;34m:\u001b[0m\u001b[0;34m\u001b[0m\u001b[0;34m\u001b[0m\u001b[0m\n\u001b[1;32m     92\u001b[0m         \u001b[0;32mif\u001b[0m \u001b[0mcc\u001b[0m\u001b[0;34m[\u001b[0m\u001b[0mi\u001b[0m\u001b[0;34m]\u001b[0m \u001b[0;34m<\u001b[0m \u001b[0;36m0\u001b[0m\u001b[0;34m:\u001b[0m \u001b[0mcc\u001b[0m\u001b[0;34m[\u001b[0m\u001b[0mi\u001b[0m\u001b[0;34m]\u001b[0m \u001b[0;34m=\u001b[0m \u001b[0;36m0\u001b[0m\u001b[0;34m\u001b[0m\u001b[0;34m\u001b[0m\u001b[0m\n",
            "\u001b[0;31mKeyboardInterrupt\u001b[0m: "
          ]
        }
      ]
    },
    {
      "cell_type": "markdown",
      "metadata": {
        "id": "P0bse3pQW-dq"
      },
      "source": [
        "## Testando o modelo"
      ]
    },
    {
      "cell_type": "code",
      "metadata": {
        "id": "FX44EnfMW-dq",
        "outputId": "a5c4b6e9-dcec-4948-81e8-5dc0e5b5356e"
      },
      "source": [
        "# Contadores\n",
        "total_imgs = 0\n",
        "matches = 0\n",
        "failed = 0\n",
        "\n",
        "# Matriz de confusao\n",
        "confusion_matrix = []\n",
        "\n",
        "# Percorrendo cada pasta\n",
        "for path in img_list:\n",
        "    enhanced_path = os.path.join(\"enhanced_imgs\", path)\n",
        "    \n",
        "    for image in os.listdir(enhanced_path):\n",
        "        # Contando o numero de imagens total\n",
        "        total_imgs += 1\n",
        "        \n",
        "        # Pegando o path completo do arquivo\n",
        "        img_path = os.path.join(enhanced_path, image)\n",
        "        \n",
        "        # Passando a imagem para o modulo G6\n",
        "        guess = g6.iris_model_test(\"model.pickle\", img_path)\n",
        "#         temp = guess\n",
        "        \n",
        "#         # Se nao deu match, o valor na matriz de confusao deve ser -1\n",
        "#         if guess == \"unmatch\":\n",
        "#             failed += 1\n",
        "#             temp = -1\n",
        "        \n",
        "#         # Se der match, o guess tem que bater com o numero da pasta\n",
        "#         elif int(guess) == int(path):\n",
        "#             matches += 1\n",
        "        print(guess)\n",
        "        \n",
        "#         confusion_matrix.append(np.array([int(path), temp]))\n",
        "        \n",
        "# confusion_matrix = np.array(confusion_matrix)"
      ],
      "execution_count": null,
      "outputs": [
        {
          "name": "stdout",
          "output_type": "stream",
          "text": [
            "locate expression 1 local variable 'east_mark' referenced before assignment\n",
            "rectangle expression2 not enough values to unpack (expected 2, got 1)\n",
            "unmatch\n",
            "locate expression 1 local variable 'east_mark' referenced before assignment\n",
            "rectangle expression2 not enough values to unpack (expected 2, got 1)\n",
            "unmatch\n",
            "locate expression 1 local variable 'east_mark' referenced before assignment\n",
            "rectangle expression2 not enough values to unpack (expected 2, got 1)\n",
            "unmatch\n",
            "locate expression 1 local variable 'east_mark' referenced before assignment\n",
            "rectangle expression2 not enough values to unpack (expected 2, got 1)\n",
            "unmatch\n",
            "locate expression 1 local variable 'east_mark' referenced before assignment\n",
            "rectangle expression2 not enough values to unpack (expected 2, got 1)\n",
            "unmatch\n",
            "locate expression 1 local variable 'east_mark' referenced before assignment\n",
            "rectangle expression2 not enough values to unpack (expected 2, got 1)\n",
            "unmatch\n",
            "locate expression 1 local variable 'east_mark' referenced before assignment\n",
            "rectangle expression2 not enough values to unpack (expected 2, got 1)\n",
            "unmatch\n",
            "locate expression 1 local variable 'east_mark' referenced before assignment\n",
            "rectangle expression2 not enough values to unpack (expected 2, got 1)\n",
            "unmatch\n",
            "locate expression 1 local variable 'east_mark' referenced before assignment\n",
            "rectangle expression2 not enough values to unpack (expected 2, got 1)\n",
            "unmatch\n",
            "locate expression 1 local variable 'east_mark' referenced before assignment\n",
            "rectangle expression2 not enough values to unpack (expected 2, got 1)\n",
            "unmatch\n",
            "locate expression 1 local variable 'east_mark' referenced before assignment\n",
            "rectangle expression2 not enough values to unpack (expected 2, got 1)\n",
            "unmatch\n",
            "locate expression 1 local variable 'east_mark' referenced before assignment\n",
            "rectangle expression2 not enough values to unpack (expected 2, got 1)\n",
            "unmatch\n",
            "locate expression 1 local variable 'east_mark' referenced before assignment\n",
            "rectangle expression2 not enough values to unpack (expected 2, got 1)\n",
            "unmatch\n",
            "locate expression 1 local variable 'east_mark' referenced before assignment\n",
            "rectangle expression2 not enough values to unpack (expected 2, got 1)\n",
            "unmatch\n",
            "locate expression 1 local variable 'east_mark' referenced before assignment\n",
            "rectangle expression2 not enough values to unpack (expected 2, got 1)\n",
            "unmatch\n",
            "locate expression 1 local variable 'east_mark' referenced before assignment\n",
            "rectangle expression2 not enough values to unpack (expected 2, got 1)\n",
            "unmatch\n",
            "locate expression 1 local variable 'east_mark' referenced before assignment\n",
            "rectangle expression2 not enough values to unpack (expected 2, got 1)\n",
            "unmatch\n",
            "locate expression 1 local variable 'east_mark' referenced before assignment\n",
            "rectangle expression2 not enough values to unpack (expected 2, got 1)\n",
            "unmatch\n",
            "locate expression 1 local variable 'east_mark' referenced before assignment\n",
            "rectangle expression2 not enough values to unpack (expected 2, got 1)\n",
            "unmatch\n",
            "locate expression 1 local variable 'east_mark' referenced before assignment\n",
            "rectangle expression2 not enough values to unpack (expected 2, got 1)\n",
            "unmatch\n",
            "locate expression 1 local variable 'east_mark' referenced before assignment\n",
            "rectangle expression2 not enough values to unpack (expected 2, got 1)\n",
            "unmatch\n",
            "locate expression 1 local variable 'east_mark' referenced before assignment\n",
            "rectangle expression2 not enough values to unpack (expected 2, got 1)\n",
            "unmatch\n",
            "locate expression 1 local variable 'east_mark' referenced before assignment\n",
            "rectangle expression2 not enough values to unpack (expected 2, got 1)\n",
            "unmatch\n",
            "locate expression 1 local variable 'east_mark' referenced before assignment\n",
            "rectangle expression2 not enough values to unpack (expected 2, got 1)\n",
            "unmatch\n",
            "locate expression 1 local variable 'east_mark' referenced before assignment\n",
            "rectangle expression2 not enough values to unpack (expected 2, got 1)\n",
            "unmatch\n",
            "locate expression 1 local variable 'east_mark' referenced before assignment\n",
            "rectangle expression2 not enough values to unpack (expected 2, got 1)\n",
            "unmatch\n",
            "locate expression 1 local variable 'east_mark' referenced before assignment\n",
            "rectangle expression2 not enough values to unpack (expected 2, got 1)\n",
            "unmatch\n",
            "locate expression 1 local variable 'east_mark' referenced before assignment\n",
            "rectangle expression2 not enough values to unpack (expected 2, got 1)\n",
            "unmatch\n",
            "locate expression 1 local variable 'east_mark' referenced before assignment\n",
            "rectangle expression2 not enough values to unpack (expected 2, got 1)\n",
            "unmatch\n",
            "locate expression 1 local variable 'east_mark' referenced before assignment\n",
            "rectangle expression2 not enough values to unpack (expected 2, got 1)\n",
            "unmatch\n",
            "locate expression 1 local variable 'east_mark' referenced before assignment\n",
            "rectangle expression2 not enough values to unpack (expected 2, got 1)\n",
            "unmatch\n",
            "locate expression 1 local variable 'east_mark' referenced before assignment\n",
            "rectangle expression2 not enough values to unpack (expected 2, got 1)\n",
            "unmatch\n",
            "locate expression 1 local variable 'east_mark' referenced before assignment\n",
            "rectangle expression2 not enough values to unpack (expected 2, got 1)\n",
            "unmatch\n",
            "locate expression 1 local variable 'east_mark' referenced before assignment\n",
            "rectangle expression2 not enough values to unpack (expected 2, got 1)\n",
            "unmatch\n",
            "locate expression 1 local variable 'east_mark' referenced before assignment\n",
            "rectangle expression2 not enough values to unpack (expected 2, got 1)\n",
            "unmatch\n",
            "locate expression 1 local variable 'east_mark' referenced before assignment\n",
            "rectangle expression2 not enough values to unpack (expected 2, got 1)\n",
            "unmatch\n",
            "locate expression 1 local variable 'east_mark' referenced before assignment\n",
            "rectangle expression2 not enough values to unpack (expected 2, got 1)\n",
            "unmatch\n",
            "locate expression 1 local variable 'east_mark' referenced before assignment\n",
            "rectangle expression2 not enough values to unpack (expected 2, got 1)\n",
            "unmatch\n",
            "locate expression 1 local variable 'east_mark' referenced before assignment\n",
            "rectangle expression2 not enough values to unpack (expected 2, got 1)\n",
            "unmatch\n",
            "locate expression 1 local variable 'east_mark' referenced before assignment\n",
            "rectangle expression2 not enough values to unpack (expected 2, got 1)\n",
            "unmatch\n",
            "locate expression 1 local variable 'east_mark' referenced before assignment\n",
            "rectangle expression2 not enough values to unpack (expected 2, got 1)\n",
            "unmatch\n",
            "locate expression 1 local variable 'east_mark' referenced before assignment\n",
            "rectangle expression2 not enough values to unpack (expected 2, got 1)\n",
            "unmatch\n",
            "locate expression 1 local variable 'east_mark' referenced before assignment\n",
            "rectangle expression2 not enough values to unpack (expected 2, got 1)\n",
            "unmatch\n",
            "locate expression 1 local variable 'east_mark' referenced before assignment\n",
            "rectangle expression2 not enough values to unpack (expected 2, got 1)\n",
            "unmatch\n",
            "locate expression 1 local variable 'east_mark' referenced before assignment\n",
            "rectangle expression2 not enough values to unpack (expected 2, got 1)\n",
            "unmatch\n",
            "locate expression 1 local variable 'east_mark' referenced before assignment\n",
            "rectangle expression2 not enough values to unpack (expected 2, got 1)\n",
            "unmatch\n",
            "locate expression 1 local variable 'east_mark' referenced before assignment\n",
            "rectangle expression2 not enough values to unpack (expected 2, got 1)\n",
            "unmatch\n",
            "locate expression 1 local variable 'east_mark' referenced before assignment\n",
            "rectangle expression2 not enough values to unpack (expected 2, got 1)\n",
            "unmatch\n",
            "locate expression 1 local variable 'east_mark' referenced before assignment\n",
            "rectangle expression2 not enough values to unpack (expected 2, got 1)\n",
            "unmatch\n",
            "locate expression 1 local variable 'east_mark' referenced before assignment\n",
            "rectangle expression2 not enough values to unpack (expected 2, got 1)\n",
            "unmatch\n",
            "locate expression 1 local variable 'east_mark' referenced before assignment\n",
            "rectangle expression2 not enough values to unpack (expected 2, got 1)\n",
            "unmatch\n",
            "locate expression 1 local variable 'east_mark' referenced before assignment\n",
            "rectangle expression2 not enough values to unpack (expected 2, got 1)\n",
            "unmatch\n",
            "locate expression 1 local variable 'east_mark' referenced before assignment\n",
            "rectangle expression2 not enough values to unpack (expected 2, got 1)\n",
            "unmatch\n",
            "locate expression 1 local variable 'east_mark' referenced before assignment\n",
            "rectangle expression2 not enough values to unpack (expected 2, got 1)\n",
            "unmatch\n",
            "locate expression 1 local variable 'east_mark' referenced before assignment\n",
            "rectangle expression2 not enough values to unpack (expected 2, got 1)\n",
            "unmatch\n"
          ]
        },
        {
          "name": "stdout",
          "output_type": "stream",
          "text": [
            "locate expression 1 local variable 'east_mark' referenced before assignment\n",
            "rectangle expression2 not enough values to unpack (expected 2, got 1)\n",
            "unmatch\n",
            "locate expression 1 local variable 'east_mark' referenced before assignment\n",
            "rectangle expression2 not enough values to unpack (expected 2, got 1)\n",
            "unmatch\n",
            "locate expression 1 local variable 'east_mark' referenced before assignment\n",
            "rectangle expression2 not enough values to unpack (expected 2, got 1)\n",
            "unmatch\n",
            "locate expression 1 local variable 'east_mark' referenced before assignment\n",
            "rectangle expression2 not enough values to unpack (expected 2, got 1)\n",
            "unmatch\n",
            "locate expression 1 local variable 'east_mark' referenced before assignment\n",
            "rectangle expression2 not enough values to unpack (expected 2, got 1)\n",
            "unmatch\n",
            "locate expression 1 local variable 'east_mark' referenced before assignment\n",
            "rectangle expression2 not enough values to unpack (expected 2, got 1)\n",
            "unmatch\n",
            "locate expression 1 local variable 'east_mark' referenced before assignment\n",
            "rectangle expression2 not enough values to unpack (expected 2, got 1)\n",
            "unmatch\n",
            "locate expression 1 local variable 'east_mark' referenced before assignment\n",
            "rectangle expression2 not enough values to unpack (expected 2, got 1)\n",
            "unmatch\n",
            "locate expression 1 local variable 'east_mark' referenced before assignment\n",
            "rectangle expression2 not enough values to unpack (expected 2, got 1)\n",
            "unmatch\n",
            "locate expression 1 local variable 'east_mark' referenced before assignment\n",
            "rectangle expression2 not enough values to unpack (expected 2, got 1)\n",
            "unmatch\n",
            "locate expression 1 local variable 'east_mark' referenced before assignment\n",
            "rectangle expression2 not enough values to unpack (expected 2, got 1)\n",
            "unmatch\n"
          ]
        },
        {
          "ename": "KeyboardInterrupt",
          "evalue": "",
          "output_type": "error",
          "traceback": [
            "\u001b[0;31m---------------------------------------------------------------------------\u001b[0m",
            "\u001b[0;31mKeyboardInterrupt\u001b[0m                         Traceback (most recent call last)",
            "\u001b[0;32m/tmp/ipykernel_28309/735881789.py\u001b[0m in \u001b[0;36m<module>\u001b[0;34m\u001b[0m\n\u001b[1;32m     19\u001b[0m \u001b[0;34m\u001b[0m\u001b[0m\n\u001b[1;32m     20\u001b[0m         \u001b[0;31m# Passando a imagem para o modulo G6\u001b[0m\u001b[0;34m\u001b[0m\u001b[0;34m\u001b[0m\u001b[0m\n\u001b[0;32m---> 21\u001b[0;31m         \u001b[0mguess\u001b[0m \u001b[0;34m=\u001b[0m \u001b[0mg6\u001b[0m\u001b[0;34m.\u001b[0m\u001b[0miris_model_test\u001b[0m\u001b[0;34m(\u001b[0m\u001b[0;34m\"model.pickle\"\u001b[0m\u001b[0;34m,\u001b[0m \u001b[0mimg_path\u001b[0m\u001b[0;34m)\u001b[0m\u001b[0;34m\u001b[0m\u001b[0;34m\u001b[0m\u001b[0m\n\u001b[0m\u001b[1;32m     22\u001b[0m \u001b[0;31m#         temp = guess\u001b[0m\u001b[0;34m\u001b[0m\u001b[0;34m\u001b[0m\u001b[0m\n\u001b[1;32m     23\u001b[0m \u001b[0;34m\u001b[0m\u001b[0m\n",
            "\u001b[0;32m~/Documents/Insper/8o_Semestre/VisaoComp/projeto-iris/G6_iris_recognition/main.py\u001b[0m in \u001b[0;36miris_model_test\u001b[0;34m(test_encoding_model_path, image_path)\u001b[0m\n\u001b[1;32m     26\u001b[0m     \u001b[0;32mif\u001b[0m \u001b[0mos\u001b[0m\u001b[0;34m.\u001b[0m\u001b[0mpath\u001b[0m\u001b[0;34m.\u001b[0m\u001b[0mexists\u001b[0m\u001b[0;34m(\u001b[0m\u001b[0mtest_encoding_model_path\u001b[0m\u001b[0;34m)\u001b[0m\u001b[0;34m:\u001b[0m\u001b[0;34m\u001b[0m\u001b[0;34m\u001b[0m\u001b[0m\n\u001b[1;32m     27\u001b[0m         \u001b[0;32mif\u001b[0m \u001b[0mos\u001b[0m\u001b[0;34m.\u001b[0m\u001b[0mpath\u001b[0m\u001b[0;34m.\u001b[0m\u001b[0mexists\u001b[0m\u001b[0;34m(\u001b[0m\u001b[0mimage_path\u001b[0m\u001b[0;34m)\u001b[0m\u001b[0;34m:\u001b[0m\u001b[0;34m\u001b[0m\u001b[0;34m\u001b[0m\u001b[0m\n\u001b[0;32m---> 28\u001b[0;31m             \u001b[0miris_name\u001b[0m \u001b[0;34m=\u001b[0m \u001b[0miris_recg\u001b[0m\u001b[0;34m(\u001b[0m\u001b[0mtest_encoding_model_path\u001b[0m\u001b[0;34m,\u001b[0m \u001b[0mimage_path\u001b[0m\u001b[0;34m)\u001b[0m\u001b[0;34m\u001b[0m\u001b[0;34m\u001b[0m\u001b[0m\n\u001b[0m\u001b[1;32m     29\u001b[0m             \u001b[0;32mreturn\u001b[0m \u001b[0miris_name\u001b[0m\u001b[0;34m\u001b[0m\u001b[0;34m\u001b[0m\u001b[0m\n\u001b[1;32m     30\u001b[0m         \u001b[0;32melse\u001b[0m\u001b[0;34m:\u001b[0m\u001b[0;34m\u001b[0m\u001b[0;34m\u001b[0m\u001b[0m\n",
            "\u001b[0;32m~/Documents/Insper/8o_Semestre/VisaoComp/projeto-iris/G6_iris_recognition/iris_matching.py\u001b[0m in \u001b[0;36miris_recg\u001b[0;34m(test_db_model_path, image)\u001b[0m\n\u001b[1;32m     31\u001b[0m             \u001b[0mnames\u001b[0m \u001b[0;34m=\u001b[0m \u001b[0mdata\u001b[0m\u001b[0;34m[\u001b[0m\u001b[0;34m\"names\"\u001b[0m\u001b[0;34m]\u001b[0m\u001b[0;34m\u001b[0m\u001b[0;34m\u001b[0m\u001b[0m\n\u001b[1;32m     32\u001b[0m             \u001b[0mq\u001b[0m \u001b[0;34m=\u001b[0m \u001b[0mque\u001b[0m\u001b[0;34m\u001b[0m\u001b[0;34m\u001b[0m\u001b[0m\n\u001b[0;32m---> 33\u001b[0;31m             \u001b[0miris_name\u001b[0m \u001b[0;34m=\u001b[0m \u001b[0mthreading\u001b[0m\u001b[0;34m.\u001b[0m\u001b[0mThread\u001b[0m\u001b[0;34m(\u001b[0m\u001b[0mtarget\u001b[0m\u001b[0;34m=\u001b[0m\u001b[0mmatch_thread\u001b[0m\u001b[0;34m(\u001b[0m\u001b[0miris_encodings\u001b[0m\u001b[0;34m,\u001b[0m\u001b[0mnames\u001b[0m\u001b[0;34m,\u001b[0m\u001b[0mimage\u001b[0m\u001b[0;34m,\u001b[0m\u001b[0mq\u001b[0m\u001b[0;34m)\u001b[0m\u001b[0;34m)\u001b[0m\u001b[0;34m.\u001b[0m\u001b[0mstart\u001b[0m\u001b[0;34m(\u001b[0m\u001b[0;34m)\u001b[0m\u001b[0;34m\u001b[0m\u001b[0;34m\u001b[0m\u001b[0m\n\u001b[0m\u001b[1;32m     34\u001b[0m             \u001b[0;32mwhile\u001b[0m \u001b[0;32mnot\u001b[0m \u001b[0mq\u001b[0m\u001b[0;34m.\u001b[0m\u001b[0mempty\u001b[0m\u001b[0;34m(\u001b[0m\u001b[0;34m)\u001b[0m\u001b[0;34m:\u001b[0m\u001b[0;34m\u001b[0m\u001b[0;34m\u001b[0m\u001b[0m\n\u001b[1;32m     35\u001b[0m                 \u001b[0;32mreturn\u001b[0m \u001b[0mq\u001b[0m\u001b[0;34m.\u001b[0m\u001b[0mget\u001b[0m\u001b[0;34m(\u001b[0m\u001b[0;34m)\u001b[0m\u001b[0;34m\u001b[0m\u001b[0;34m\u001b[0m\u001b[0m\n",
            "\u001b[0;32m~/Documents/Insper/8o_Semestre/VisaoComp/projeto-iris/G6_iris_recognition/iris_matching.py\u001b[0m in \u001b[0;36mmatch_thread\u001b[0;34m(iris_encodings, names, iris_image, q)\u001b[0m\n\u001b[1;32m     39\u001b[0m \u001b[0;34m\u001b[0m\u001b[0m\n\u001b[1;32m     40\u001b[0m \u001b[0;32mdef\u001b[0m \u001b[0mmatch_thread\u001b[0m\u001b[0;34m(\u001b[0m\u001b[0miris_encodings\u001b[0m\u001b[0;34m,\u001b[0m\u001b[0mnames\u001b[0m\u001b[0;34m,\u001b[0m\u001b[0miris_image\u001b[0m\u001b[0;34m,\u001b[0m\u001b[0mq\u001b[0m\u001b[0;34m)\u001b[0m\u001b[0;34m:\u001b[0m\u001b[0;34m\u001b[0m\u001b[0;34m\u001b[0m\u001b[0m\n\u001b[0;32m---> 41\u001b[0;31m         \u001b[0miris_encodings_in_image\u001b[0m \u001b[0;34m=\u001b[0m \u001b[0mengroup\u001b[0m\u001b[0;34m(\u001b[0m\u001b[0miris_image\u001b[0m\u001b[0;34m)\u001b[0m\u001b[0;34m\u001b[0m\u001b[0;34m\u001b[0m\u001b[0m\n\u001b[0m\u001b[1;32m     42\u001b[0m         \u001b[0;32mif\u001b[0m \u001b[0miris_encodings_in_image\u001b[0m \u001b[0;34m!=\u001b[0m\u001b[0;34m\"invalid image\"\u001b[0m\u001b[0;34m:\u001b[0m\u001b[0;34m\u001b[0m\u001b[0;34m\u001b[0m\u001b[0m\n\u001b[1;32m     43\u001b[0m             \u001b[0mmatch\u001b[0m \u001b[0;34m=\u001b[0m \u001b[0mfind_match\u001b[0m\u001b[0;34m(\u001b[0m\u001b[0miris_encodings\u001b[0m\u001b[0;34m,\u001b[0m \u001b[0mnames\u001b[0m\u001b[0;34m,\u001b[0m \u001b[0miris_encodings_in_image\u001b[0m\u001b[0;34m)\u001b[0m\u001b[0;34m\u001b[0m\u001b[0;34m\u001b[0m\u001b[0m\n",
            "\u001b[0;32m~/Documents/Insper/8o_Semestre/VisaoComp/projeto-iris/G6_iris_recognition/feature_vec.py\u001b[0m in \u001b[0;36mengroup\u001b[0;34m(fname)\u001b[0m\n\u001b[1;32m      6\u001b[0m \u001b[0;32mdef\u001b[0m \u001b[0mengroup\u001b[0m\u001b[0;34m(\u001b[0m\u001b[0mfname\u001b[0m\u001b[0;34m)\u001b[0m\u001b[0;34m:\u001b[0m\u001b[0;34m\u001b[0m\u001b[0;34m\u001b[0m\u001b[0m\n\u001b[1;32m      7\u001b[0m     \u001b[0;32mtry\u001b[0m\u001b[0;34m:\u001b[0m\u001b[0;34m\u001b[0m\u001b[0;34m\u001b[0m\u001b[0m\n\u001b[0;32m----> 8\u001b[0;31m         \u001b[0mstrip\u001b[0m \u001b[0;34m=\u001b[0m \u001b[0mrectangle\u001b[0m\u001b[0;34m(\u001b[0m\u001b[0mfname\u001b[0m\u001b[0;34m)\u001b[0m\u001b[0;34m\u001b[0m\u001b[0;34m\u001b[0m\u001b[0m\n\u001b[0m\u001b[1;32m      9\u001b[0m \u001b[0;34m\u001b[0m\u001b[0m\n\u001b[1;32m     10\u001b[0m         \u001b[0;31m# if strip == \"invalid image\":\u001b[0m\u001b[0;34m\u001b[0m\u001b[0;34m\u001b[0m\u001b[0m\n",
            "\u001b[0;32m~/Documents/Insper/8o_Semestre/VisaoComp/projeto-iris/G6_iris_recognition/rectangulate.py\u001b[0m in \u001b[0;36mrectangle\u001b[0;34m(fname)\u001b[0m\n\u001b[1;32m      7\u001b[0m       \u001b[0mrgb\u001b[0m \u001b[0;34m=\u001b[0m \u001b[0mcv2\u001b[0m\u001b[0;34m.\u001b[0m\u001b[0mimread\u001b[0m\u001b[0;34m(\u001b[0m\u001b[0mfname\u001b[0m\u001b[0;34m)\u001b[0m\u001b[0;34m\u001b[0m\u001b[0;34m\u001b[0m\u001b[0m\n\u001b[1;32m      8\u001b[0m       \u001b[0mimg_out\u001b[0m \u001b[0;34m=\u001b[0m \u001b[0mcv2\u001b[0m\u001b[0;34m.\u001b[0m\u001b[0mcvtColor\u001b[0m\u001b[0;34m(\u001b[0m\u001b[0mrgb\u001b[0m\u001b[0;34m,\u001b[0m \u001b[0mcv2\u001b[0m\u001b[0;34m.\u001b[0m\u001b[0mCOLOR_BGR2GRAY\u001b[0m\u001b[0;34m)\u001b[0m\u001b[0;34m\u001b[0m\u001b[0;34m\u001b[0m\u001b[0m\n\u001b[0;32m----> 9\u001b[0;31m       \u001b[0mparams\u001b[0m \u001b[0;34m=\u001b[0m \u001b[0mlocate\u001b[0m\u001b[0;34m(\u001b[0m\u001b[0mimg_out\u001b[0m\u001b[0;34m)\u001b[0m\u001b[0;34m\u001b[0m\u001b[0;34m\u001b[0m\u001b[0m\n\u001b[0m\u001b[1;32m     10\u001b[0m \u001b[0;34m\u001b[0m\u001b[0m\n\u001b[1;32m     11\u001b[0m       \u001b[0mRi\u001b[0m \u001b[0;34m=\u001b[0m \u001b[0mparams\u001b[0m\u001b[0;34m[\u001b[0m\u001b[0;36m0\u001b[0m\u001b[0;34m]\u001b[0m \u001b[0;31m# Inner (pupil) radius\u001b[0m\u001b[0;34m\u001b[0m\u001b[0;34m\u001b[0m\u001b[0m\n",
            "\u001b[0;32m~/Documents/Insper/8o_Semestre/VisaoComp/projeto-iris/G6_iris_recognition/locate2.py\u001b[0m in \u001b[0;36mlocate\u001b[0;34m(img)\u001b[0m\n\u001b[1;32m     13\u001b[0m     \u001b[0;32mfor\u001b[0m \u001b[0mcol\u001b[0m \u001b[0;32min\u001b[0m \u001b[0mrange\u001b[0m\u001b[0;34m(\u001b[0m\u001b[0mcols\u001b[0m\u001b[0;34m)\u001b[0m\u001b[0;34m:\u001b[0m\u001b[0;34m\u001b[0m\u001b[0;34m\u001b[0m\u001b[0m\n\u001b[1;32m     14\u001b[0m         \u001b[0mcol\u001b[0m \u001b[0;34m=\u001b[0m \u001b[0mcols\u001b[0m \u001b[0;34m-\u001b[0m \u001b[0;36m1\u001b[0m \u001b[0;34m-\u001b[0m \u001b[0mcol\u001b[0m\u001b[0;34m\u001b[0m\u001b[0;34m\u001b[0m\u001b[0m\n\u001b[0;32m---> 15\u001b[0;31m         \u001b[0;32mif\u001b[0m \u001b[0msum\u001b[0m\u001b[0;34m(\u001b[0m\u001b[0mpupil_img\u001b[0m\u001b[0;34m[\u001b[0m\u001b[0;34m:\u001b[0m\u001b[0;34m,\u001b[0m\u001b[0mcol\u001b[0m\u001b[0;34m]\u001b[0m\u001b[0;34m)\u001b[0m \u001b[0;34m>\u001b[0m \u001b[0;36m0\u001b[0m\u001b[0;34m:\u001b[0m\u001b[0;34m\u001b[0m\u001b[0;34m\u001b[0m\u001b[0m\n\u001b[0m\u001b[1;32m     16\u001b[0m             \u001b[0meast_mark\u001b[0m \u001b[0;34m=\u001b[0m \u001b[0mcol\u001b[0m\u001b[0;34m\u001b[0m\u001b[0;34m\u001b[0m\u001b[0m\n\u001b[1;32m     17\u001b[0m             \u001b[0;32mbreak\u001b[0m\u001b[0;34m\u001b[0m\u001b[0;34m\u001b[0m\u001b[0m\n",
            "\u001b[0;31mKeyboardInterrupt\u001b[0m: "
          ]
        }
      ]
    },
    {
      "cell_type": "code",
      "metadata": {
        "id": "vdBkaOgeW-dr",
        "outputId": "a0c39a36-cd36-4b40-94c8-0a0d7031a69f"
      },
      "source": [
        "print(f\"Matches: {matches}\")\n",
        "print(f\"Failures: {failed}\")\n",
        "print(f\"Success rate: {round(matches/total_imgs*100, 2)}%\")"
      ],
      "execution_count": null,
      "outputs": [
        {
          "name": "stdout",
          "output_type": "stream",
          "text": [
            "Matches: 0\n",
            "Failures: 1163\n",
            "Success rate: 0.0%\n"
          ]
        }
      ]
    },
    {
      "cell_type": "markdown",
      "metadata": {
        "id": "FB8xlP1cW-dr"
      },
      "source": [
        "## Análise dos resultados\n",
        "\n",
        "Embora as imagens tenham sido tratadas para deixar a íris mais destacada, o modelo não foi capaz de detectar nenhuma imagem com sucesso. Uma possível explicação para tal é que o módulo `G6_iris_recognition` tem como requerimento que no mínimo 90% da íris esteja visível, e a maior parte das imagens contém a íris parcialmente oculta, seja pela pupila ou por fios de cabelo que estão na frente da íris. Outro fator que pode explicar este resultado é que os tons de cinza presentes nas imagens não são tão distintos entre si, o que pode confundir o treinamento.\n",
        "\n",
        "![](https://github.com/BrunoSDomingues/projeto-iris/blob/main/requirements.png?raw=1)"
      ]
    }
  ]
}